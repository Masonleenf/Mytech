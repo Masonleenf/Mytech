# MongoDB에서 실제 조합 확인
from pymongo import MongoClient

client = MongoClient("mongodb+srv://...")
db = client['etf_database']

# 실제 존재하는 조합 출력
for doc in db['etf_master'].find().limit(5):
    print(f"saa_class: {doc.get('saa_class')}, taa_class: {doc.get('taa_class')}")